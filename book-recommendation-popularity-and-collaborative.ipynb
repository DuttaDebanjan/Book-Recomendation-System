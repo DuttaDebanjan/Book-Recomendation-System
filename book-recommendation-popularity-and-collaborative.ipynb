{
 "cells": [
  {
   "cell_type": "markdown",
   "id": "957c53aa",
   "metadata": {
    "papermill": {
     "duration": 0.0135,
     "end_time": "2023-07-16T18:02:22.343352",
     "exception": false,
     "start_time": "2023-07-16T18:02:22.329852",
     "status": "completed"
    },
    "tags": []
   },
   "source": [
    "# Introduction #\n",
    "\n",
    "We will going explore two popular approaches for building recommendation systems.Popularity-based Recommendation and Collaborative Filtering Recommendation.These techniques help us provide personalized book recommendations to users based on their interests and preferences.\n",
    "\n",
    "## Popularity-based Recommendation \n",
    "\n",
    "Popularity-based Recommendation is a simple yet effective approach that suggests books based on their overall popularity or popularity within a certain group of users. It recommends books that have received high ratings or have been frequently purchased/read by a large number of users. This approach is suitable when we want to provide general recommendations to a wide range of users.\n",
    "\n",
    "## Collaborative Filtering Recommendation\n",
    "\n",
    "Collaborative Filtering Recommendation is a more advanced technique that leverages the collective wisdom of a community of users. It finds similarities in user behavior and preferences to make personalized recommendations. Collaborative Filtering looks for patterns among users who have similar tastes and preferences. It suggests books that have been liked or highly rated by users who share similar interests with the target user.\n",
    "\n",
    "In this notebook, we will implement both Popularity-based Recommendation and Collaborative Filtering Recommendation techniques to offer diverse and tailored book recommendations."
   ]
  },
  {
   "cell_type": "code",
   "execution_count": 1,
   "id": "4dfc614c",
   "metadata": {
    "execution": {
     "iopub.execute_input": "2023-07-16T18:02:22.370159Z",
     "iopub.status.busy": "2023-07-16T18:02:22.369590Z",
     "iopub.status.idle": "2023-07-16T18:02:22.377007Z",
     "shell.execute_reply": "2023-07-16T18:02:22.376425Z"
    },
    "papermill": {
     "duration": 0.023086,
     "end_time": "2023-07-16T18:02:22.378481",
     "exception": false,
     "start_time": "2023-07-16T18:02:22.355395",
     "status": "completed"
    },
    "tags": []
   },
   "outputs": [],
   "source": [
    "#importing libraries\n",
    "import pandas as pd\n",
    "import numpy as np\n",
    "import matplotlib.pyplot as plt"
   ]
  },
  {
   "cell_type": "code",
   "execution_count": 2,
   "id": "1490b170",
   "metadata": {
    "execution": {
     "iopub.execute_input": "2023-07-16T18:02:22.404089Z",
     "iopub.status.busy": "2023-07-16T18:02:22.403548Z",
     "iopub.status.idle": "2023-07-16T18:02:25.233236Z",
     "shell.execute_reply": "2023-07-16T18:02:25.232443Z"
    },
    "papermill": {
     "duration": 2.844772,
     "end_time": "2023-07-16T18:02:25.235384",
     "exception": false,
     "start_time": "2023-07-16T18:02:22.390612",
     "status": "completed"
    },
    "tags": []
   },
   "outputs": [],
   "source": [
    "#reading datasets\n",
    "books=pd.read_csv(\"F:/Projects_Python/Projects/Book_Recom_Sys/Books.csv\",low_memory = False)\n",
    "ratings=pd.read_csv(\"F:/Projects_Python/Projects/Book_Recom_Sys/Ratings.csv\")\n",
    "users=pd.read_csv(\"F:/Projects_Python/Projects/Book_Recom_Sys/Users.csv\")"
   ]
  },
  {
   "cell_type": "markdown",
   "id": "e58c3065",
   "metadata": {
    "papermill": {
     "duration": 0.011634,
     "end_time": "2023-07-16T18:02:25.259385",
     "exception": false,
     "start_time": "2023-07-16T18:02:25.247751",
     "status": "completed"
    },
    "tags": []
   },
   "source": [
    "Understanding **books** dataset"
   ]
  },
  {
   "cell_type": "code",
   "execution_count": 3,
   "id": "5af262e5",
   "metadata": {
    "execution": {
     "iopub.execute_input": "2023-07-16T18:02:25.284562Z",
     "iopub.status.busy": "2023-07-16T18:02:25.284258Z",
     "iopub.status.idle": "2023-07-16T18:02:25.300770Z",
     "shell.execute_reply": "2023-07-16T18:02:25.299961Z"
    },
    "papermill": {
     "duration": 0.031277,
     "end_time": "2023-07-16T18:02:25.302486",
     "exception": false,
     "start_time": "2023-07-16T18:02:25.271209",
     "status": "completed"
    },
    "tags": []
   },
   "outputs": [
    {
     "data": {
      "text/html": [
       "<div>\n",
       "<style scoped>\n",
       "    .dataframe tbody tr th:only-of-type {\n",
       "        vertical-align: middle;\n",
       "    }\n",
       "\n",
       "    .dataframe tbody tr th {\n",
       "        vertical-align: top;\n",
       "    }\n",
       "\n",
       "    .dataframe thead th {\n",
       "        text-align: right;\n",
       "    }\n",
       "</style>\n",
       "<table border=\"1\" class=\"dataframe\">\n",
       "  <thead>\n",
       "    <tr style=\"text-align: right;\">\n",
       "      <th></th>\n",
       "      <th>ISBN</th>\n",
       "      <th>Book-Title</th>\n",
       "      <th>Book-Author</th>\n",
       "      <th>Year-Of-Publication</th>\n",
       "      <th>Publisher</th>\n",
       "      <th>Image-URL-S</th>\n",
       "      <th>Image-URL-M</th>\n",
       "      <th>Image-URL-L</th>\n",
       "    </tr>\n",
       "  </thead>\n",
       "  <tbody>\n",
       "    <tr>\n",
       "      <th>0</th>\n",
       "      <td>0195153448</td>\n",
       "      <td>Classical Mythology</td>\n",
       "      <td>Mark P. O. Morford</td>\n",
       "      <td>2002</td>\n",
       "      <td>Oxford University Press</td>\n",
       "      <td>http://images.amazon.com/images/P/0195153448.0...</td>\n",
       "      <td>http://images.amazon.com/images/P/0195153448.0...</td>\n",
       "      <td>http://images.amazon.com/images/P/0195153448.0...</td>\n",
       "    </tr>\n",
       "    <tr>\n",
       "      <th>1</th>\n",
       "      <td>0002005018</td>\n",
       "      <td>Clara Callan</td>\n",
       "      <td>Richard Bruce Wright</td>\n",
       "      <td>2001</td>\n",
       "      <td>HarperFlamingo Canada</td>\n",
       "      <td>http://images.amazon.com/images/P/0002005018.0...</td>\n",
       "      <td>http://images.amazon.com/images/P/0002005018.0...</td>\n",
       "      <td>http://images.amazon.com/images/P/0002005018.0...</td>\n",
       "    </tr>\n",
       "  </tbody>\n",
       "</table>\n",
       "</div>"
      ],
      "text/plain": [
       "         ISBN           Book-Title           Book-Author Year-Of-Publication  \\\n",
       "0  0195153448  Classical Mythology    Mark P. O. Morford                2002   \n",
       "1  0002005018         Clara Callan  Richard Bruce Wright                2001   \n",
       "\n",
       "                 Publisher                                        Image-URL-S  \\\n",
       "0  Oxford University Press  http://images.amazon.com/images/P/0195153448.0...   \n",
       "1    HarperFlamingo Canada  http://images.amazon.com/images/P/0002005018.0...   \n",
       "\n",
       "                                         Image-URL-M  \\\n",
       "0  http://images.amazon.com/images/P/0195153448.0...   \n",
       "1  http://images.amazon.com/images/P/0002005018.0...   \n",
       "\n",
       "                                         Image-URL-L  \n",
       "0  http://images.amazon.com/images/P/0195153448.0...  \n",
       "1  http://images.amazon.com/images/P/0002005018.0...  "
      ]
     },
     "execution_count": 3,
     "metadata": {},
     "output_type": "execute_result"
    }
   ],
   "source": [
    "books.head(2)"
   ]
  },
  {
   "cell_type": "code",
   "execution_count": 4,
   "id": "d2a7a49f",
   "metadata": {
    "execution": {
     "iopub.execute_input": "2023-07-16T18:02:25.331578Z",
     "iopub.status.busy": "2023-07-16T18:02:25.330723Z",
     "iopub.status.idle": "2023-07-16T18:02:25.337425Z",
     "shell.execute_reply": "2023-07-16T18:02:25.336512Z"
    },
    "papermill": {
     "duration": 0.024468,
     "end_time": "2023-07-16T18:02:25.339426",
     "exception": false,
     "start_time": "2023-07-16T18:02:25.314958",
     "status": "completed"
    },
    "tags": []
   },
   "outputs": [
    {
     "data": {
      "text/plain": [
       "Index(['ISBN', 'Book-Title', 'Book-Author', 'Year-Of-Publication', 'Publisher',\n",
       "       'Image-URL-S', 'Image-URL-M', 'Image-URL-L'],\n",
       "      dtype='object')"
      ]
     },
     "execution_count": 4,
     "metadata": {},
     "output_type": "execute_result"
    }
   ],
   "source": [
    "books.columns"
   ]
  },
  {
   "cell_type": "markdown",
   "id": "662a08ab",
   "metadata": {
    "papermill": {
     "duration": 0.012447,
     "end_time": "2023-07-16T18:02:25.367157",
     "exception": false,
     "start_time": "2023-07-16T18:02:25.354710",
     "status": "completed"
    },
    "tags": []
   },
   "source": [
    "**books dataset**<br>\n",
    "\n",
    "1.***ISBN***: ISBN stands for International Standard Book Number. It is a unique numerical identifier used to identify books and other monographic publications. Each ISBN consists of a series of digits that uniquely identify a specific edition or version of a book.<br>\n",
    "The purpose of an ISBN is to provide a standardized method for identifying and cataloging books. It helps publishers, booksellers, libraries, and other organizations to efficiently manage and track books. By using an ISBN, a book can be easily located, ordered, and sold internationally<br>\n",
    "\n",
    "2.***Book-Title***: Title of the book\n",
    "\n",
    "3.***Book-Author***: Author of the book\n",
    "\n",
    "4.***Year-Of-Publication***:Year-Of-Publication\n",
    "\n",
    "5.***Publisher***: Publisher is the organization or company responsible for producing and distributing the book to the public. Publishers handle various aspects of the book's publication process, including acquiring manuscripts, editing, designing, printing, marketing, and distributing the book.\n",
    "\n",
    "6.***Image-URL-S***: short URL of the image \n",
    "\n",
    "7.***Image-URL-M***:medium URL of the image\n",
    "\n",
    "8.***Image-URL-L***:long URL of the image"
   ]
  },
  {
   "cell_type": "code",
   "execution_count": 5,
   "id": "b990cfd0",
   "metadata": {
    "execution": {
     "iopub.execute_input": "2023-07-16T18:02:25.395365Z",
     "iopub.status.busy": "2023-07-16T18:02:25.394322Z",
     "iopub.status.idle": "2023-07-16T18:02:25.403918Z",
     "shell.execute_reply": "2023-07-16T18:02:25.403140Z"
    },
    "papermill": {
     "duration": 0.02613,
     "end_time": "2023-07-16T18:02:25.405494",
     "exception": false,
     "start_time": "2023-07-16T18:02:25.379364",
     "status": "completed"
    },
    "tags": []
   },
   "outputs": [
    {
     "data": {
      "text/html": [
       "<div>\n",
       "<style scoped>\n",
       "    .dataframe tbody tr th:only-of-type {\n",
       "        vertical-align: middle;\n",
       "    }\n",
       "\n",
       "    .dataframe tbody tr th {\n",
       "        vertical-align: top;\n",
       "    }\n",
       "\n",
       "    .dataframe thead th {\n",
       "        text-align: right;\n",
       "    }\n",
       "</style>\n",
       "<table border=\"1\" class=\"dataframe\">\n",
       "  <thead>\n",
       "    <tr style=\"text-align: right;\">\n",
       "      <th></th>\n",
       "      <th>User-ID</th>\n",
       "      <th>ISBN</th>\n",
       "      <th>Book-Rating</th>\n",
       "    </tr>\n",
       "  </thead>\n",
       "  <tbody>\n",
       "    <tr>\n",
       "      <th>0</th>\n",
       "      <td>276725</td>\n",
       "      <td>034545104X</td>\n",
       "      <td>0</td>\n",
       "    </tr>\n",
       "    <tr>\n",
       "      <th>1</th>\n",
       "      <td>276726</td>\n",
       "      <td>0155061224</td>\n",
       "      <td>5</td>\n",
       "    </tr>\n",
       "  </tbody>\n",
       "</table>\n",
       "</div>"
      ],
      "text/plain": [
       "   User-ID        ISBN  Book-Rating\n",
       "0   276725  034545104X            0\n",
       "1   276726  0155061224            5"
      ]
     },
     "execution_count": 5,
     "metadata": {},
     "output_type": "execute_result"
    }
   ],
   "source": [
    "ratings.head(2)"
   ]
  },
  {
   "cell_type": "markdown",
   "id": "8857f9d7",
   "metadata": {
    "execution": {
     "iopub.execute_input": "2023-07-12T06:52:32.973121Z",
     "iopub.status.busy": "2023-07-12T06:52:32.972175Z",
     "iopub.status.idle": "2023-07-12T06:52:32.979892Z",
     "shell.execute_reply": "2023-07-12T06:52:32.978527Z",
     "shell.execute_reply.started": "2023-07-12T06:52:32.973080Z"
    },
    "papermill": {
     "duration": 0.016286,
     "end_time": "2023-07-16T18:02:25.438349",
     "exception": false,
     "start_time": "2023-07-16T18:02:25.422063",
     "status": "completed"
    },
    "tags": []
   },
   "source": [
    "***ratings dataset***\n",
    "\n",
    "1.**User-ID**: User id of the reader/customer who reviews the book<br>\n",
    "2.**ISBN**: Unique idenifier for book whos review has been made<br>\n",
    "3.**Book-Rating**: Raing of the particular book \n"
   ]
  },
  {
   "cell_type": "code",
   "execution_count": 6,
   "id": "6ed89310",
   "metadata": {
    "execution": {
     "iopub.execute_input": "2023-07-16T18:02:25.466504Z",
     "iopub.status.busy": "2023-07-16T18:02:25.465973Z",
     "iopub.status.idle": "2023-07-16T18:02:25.474252Z",
     "shell.execute_reply": "2023-07-16T18:02:25.473416Z"
    },
    "papermill": {
     "duration": 0.023244,
     "end_time": "2023-07-16T18:02:25.475873",
     "exception": false,
     "start_time": "2023-07-16T18:02:25.452629",
     "status": "completed"
    },
    "tags": []
   },
   "outputs": [
    {
     "data": {
      "text/html": [
       "<div>\n",
       "<style scoped>\n",
       "    .dataframe tbody tr th:only-of-type {\n",
       "        vertical-align: middle;\n",
       "    }\n",
       "\n",
       "    .dataframe tbody tr th {\n",
       "        vertical-align: top;\n",
       "    }\n",
       "\n",
       "    .dataframe thead th {\n",
       "        text-align: right;\n",
       "    }\n",
       "</style>\n",
       "<table border=\"1\" class=\"dataframe\">\n",
       "  <thead>\n",
       "    <tr style=\"text-align: right;\">\n",
       "      <th></th>\n",
       "      <th>User-ID</th>\n",
       "      <th>Location</th>\n",
       "      <th>Age</th>\n",
       "    </tr>\n",
       "  </thead>\n",
       "  <tbody>\n",
       "    <tr>\n",
       "      <th>0</th>\n",
       "      <td>1</td>\n",
       "      <td>nyc, new york, usa</td>\n",
       "      <td>NaN</td>\n",
       "    </tr>\n",
       "    <tr>\n",
       "      <th>1</th>\n",
       "      <td>2</td>\n",
       "      <td>stockton, california, usa</td>\n",
       "      <td>18.0</td>\n",
       "    </tr>\n",
       "  </tbody>\n",
       "</table>\n",
       "</div>"
      ],
      "text/plain": [
       "   User-ID                   Location   Age\n",
       "0        1         nyc, new york, usa   NaN\n",
       "1        2  stockton, california, usa  18.0"
      ]
     },
     "execution_count": 6,
     "metadata": {},
     "output_type": "execute_result"
    }
   ],
   "source": [
    "users.head(2)"
   ]
  },
  {
   "cell_type": "markdown",
   "id": "530cc720",
   "metadata": {
    "papermill": {
     "duration": 0.012102,
     "end_time": "2023-07-16T18:02:25.500370",
     "exception": false,
     "start_time": "2023-07-16T18:02:25.488268",
     "status": "completed"
    },
    "tags": []
   },
   "source": [
    "1.**User-ID**:User id of the reader/customer who reviews the book<br>\n",
    "2.**Location**:Location<br>\n",
    "3.**Age**: age<br>"
   ]
  },
  {
   "cell_type": "code",
   "execution_count": 7,
   "id": "ad684a0a",
   "metadata": {
    "execution": {
     "iopub.execute_input": "2023-07-16T18:02:25.527200Z",
     "iopub.status.busy": "2023-07-16T18:02:25.526548Z",
     "iopub.status.idle": "2023-07-16T18:02:26.034046Z",
     "shell.execute_reply": "2023-07-16T18:02:26.033038Z"
    },
    "papermill": {
     "duration": 0.523066,
     "end_time": "2023-07-16T18:02:26.036213",
     "exception": false,
     "start_time": "2023-07-16T18:02:25.513147",
     "status": "completed"
    },
    "tags": []
   },
   "outputs": [
    {
     "name": "stdout",
     "output_type": "stream",
     "text": [
      "\n",
      "Shape of 'books' DataFrame: (271360, 8)\n",
      "Missing values in 'books' DataFrame:\n",
      "ISBN                   0\n",
      "Book-Title             0\n",
      "Book-Author            1\n",
      "Year-Of-Publication    0\n",
      "Publisher              2\n",
      "Image-URL-S            0\n",
      "Image-URL-M            0\n",
      "Image-URL-L            3\n",
      "dtype: int64\n",
      "\n",
      "Shape of 'ratings' DataFrame: (1149780, 3)\n",
      "\n",
      "Missing values in 'ratings' DataFrame:\n",
      "User-ID        0\n",
      "ISBN           0\n",
      "Book-Rating    0\n",
      "dtype: int64\n",
      "\n",
      "Shape of 'users' DataFrame: (278858, 3)\n",
      "\n",
      "Missing values in 'users' DataFrame:\n",
      "User-ID          0\n",
      "Location         0\n",
      "Age         110762\n",
      "dtype: int64\n"
     ]
    }
   ],
   "source": [
    "# Check size and missing values of 'books' DataFrame\n",
    "print(\"\\nShape of 'books' DataFrame:\", books.shape)\n",
    "print(\"Missing values in 'books' DataFrame:\")\n",
    "print(books.isnull().sum())\n",
    "\n",
    "# Check shape and missing values of 'ratings' DataFrame\n",
    "print(\"\\nShape of 'ratings' DataFrame:\", ratings.shape)\n",
    "print(\"\\nMissing values in 'ratings' DataFrame:\")\n",
    "print(ratings.isnull().sum())\n",
    "\n",
    "\n",
    "# Check  shape and missing values of 'users' DataFrame\n",
    "print(\"\\nShape of 'users' DataFrame:\", users.shape)\n",
    "print(\"\\nMissing values in 'users' DataFrame:\")\n",
    "print(users.isnull().sum())\n"
   ]
  },
  {
   "cell_type": "markdown",
   "id": "57abf717",
   "metadata": {
    "papermill": {
     "duration": 0.012209,
     "end_time": "2023-07-16T18:02:26.061574",
     "exception": false,
     "start_time": "2023-07-16T18:02:26.049365",
     "status": "completed"
    },
    "tags": []
   },
   "source": [
    "As we can see we have lots of missing values in ***age*** column,but age does not have not much significant as we are taking ratings as main feature for our recommendations,so we are planning remove age column."
   ]
  },
  {
   "cell_type": "code",
   "execution_count": 8,
   "id": "a286e6f3",
   "metadata": {
    "execution": {
     "iopub.execute_input": "2023-07-16T18:02:26.088072Z",
     "iopub.status.busy": "2023-07-16T18:02:26.087760Z",
     "iopub.status.idle": "2023-07-16T18:02:26.820811Z",
     "shell.execute_reply": "2023-07-16T18:02:26.819877Z"
    },
    "papermill": {
     "duration": 0.748805,
     "end_time": "2023-07-16T18:02:26.822847",
     "exception": false,
     "start_time": "2023-07-16T18:02:26.074042",
     "status": "completed"
    },
    "tags": []
   },
   "outputs": [
    {
     "name": "stdout",
     "output_type": "stream",
     "text": [
      "Duplicated rows count in 'books' DataFrame: 0\n",
      "Duplicated rows count in 'ratings' DataFrame: 0\n",
      "Duplicated rows count in 'users' DataFrame: 0\n"
     ]
    }
   ],
   "source": [
    "# Count duplicated rows in 'books' DataFrame\n",
    "books_duplicates_count = books.duplicated().sum()\n",
    "print(\"Duplicated rows count in 'books' DataFrame:\", books_duplicates_count)\n",
    "\n",
    "# Count duplicated rows in 'ratings' DataFrame\n",
    "ratings_duplicates_count = ratings.duplicated().sum()\n",
    "print(\"Duplicated rows count in 'ratings' DataFrame:\", ratings_duplicates_count)\n",
    "\n",
    "# Count duplicated rows in 'users' DataFrame\n",
    "users_duplicates_count = users.duplicated().sum()\n",
    "print(\"Duplicated rows count in 'users' DataFrame:\", users_duplicates_count)"
   ]
  },
  {
   "cell_type": "markdown",
   "id": "746ac926",
   "metadata": {
    "papermill": {
     "duration": 0.01233,
     "end_time": "2023-07-16T18:02:26.847964",
     "exception": false,
     "start_time": "2023-07-16T18:02:26.835634",
     "status": "completed"
    },
    "tags": []
   },
   "source": [
    "# EDA"
   ]
  },
  {
   "cell_type": "markdown",
   "id": "aab46313",
   "metadata": {
    "papermill": {
     "duration": 0.012186,
     "end_time": "2023-07-16T18:02:26.872665",
     "exception": false,
     "start_time": "2023-07-16T18:02:26.860479",
     "status": "completed"
    },
    "tags": []
   },
   "source": [
    "### Top 10 publishers with the most books ###"
   ]
  },
  {
   "cell_type": "code",
   "execution_count": 9,
   "id": "185921bd",
   "metadata": {
    "execution": {
     "iopub.execute_input": "2023-07-16T18:02:26.899030Z",
     "iopub.status.busy": "2023-07-16T18:02:26.898465Z",
     "iopub.status.idle": "2023-07-16T18:02:27.195955Z",
     "shell.execute_reply": "2023-07-16T18:02:27.195279Z"
    },
    "papermill": {
     "duration": 0.31244,
     "end_time": "2023-07-16T18:02:27.197418",
     "exception": false,
     "start_time": "2023-07-16T18:02:26.884978",
     "status": "completed"
    },
    "tags": []
   },
   "outputs": [
    {
     "data": {
      "image/png": "[encoded data removed]",
      "text/plain": [
       "<Figure size 1000x600 with 1 Axes>"
      ]
     },
     "metadata": {},
     "output_type": "display_data"
    }
   ],
   "source": [
    "\n",
    "top_publishers = books['Publisher'].value_counts().head(10)\n",
    "\n",
    "# Create a bar chart\n",
    "plt.figure(figsize=(10, 6))\n",
    "top_publishers.plot(kind='bar')\n",
    "plt.title('Top 10 Publishers with the Most Books')\n",
    "plt.xlabel('Publisher')\n",
    "plt.ylabel('Number of Books')\n",
    "plt.xticks(rotation=45)\n",
    "plt.show()\n"
   ]
  },
  {
   "cell_type": "markdown",
   "id": "3113dbeb",
   "metadata": {
    "papermill": {
     "duration": 0.012783,
     "end_time": "2023-07-16T18:02:27.223563",
     "exception": false,
     "start_time": "2023-07-16T18:02:27.210780",
     "status": "completed"
    },
    "tags": []
   },
   "source": [
    "### Top 10 Authors with the most books ###"
   ]
  },
  {
   "cell_type": "code",
   "execution_count": 10,
   "id": "da61fb91",
   "metadata": {
    "execution": {
     "iopub.execute_input": "2023-07-16T18:02:27.250668Z",
     "iopub.status.busy": "2023-07-16T18:02:27.250160Z",
     "iopub.status.idle": "2023-07-16T18:02:27.535804Z",
     "shell.execute_reply": "2023-07-16T18:02:27.534653Z"
    },
    "papermill": {
     "duration": 0.30115,
     "end_time": "2023-07-16T18:02:27.537433",
     "exception": false,
     "start_time": "2023-07-16T18:02:27.236283",
     "status": "completed"
    },
    "tags": []
   },
   "outputs": [
    {
     "data": {
      "image/png": "[encoded data removed]",
      "text/plain": [
       "<Figure size 1000x600 with 1 Axes>"
      ]
     },
     "metadata": {},
     "output_type": "display_data"
    }
   ],
   "source": [
    "# top 10 Authors with the most books\n",
    "top_authors = books['Book-Author'].value_counts().head(10)\n",
    "\n",
    "# Create a bar chart\n",
    "plt.figure(figsize=(10, 6))\n",
    "top_authors.plot(kind='bar')\n",
    "plt.title('Top 10 Authors with the Most Books')\n",
    "plt.xlabel('Author')\n",
    "plt.ylabel('Number of Books')\n",
    "plt.xticks(rotation=45)\n",
    "plt.show()"
   ]
  },
  {
   "cell_type": "markdown",
   "id": "80df305e",
   "metadata": {
    "papermill": {
     "duration": 0.014298,
     "end_time": "2023-07-16T18:02:27.565480",
     "exception": false,
     "start_time": "2023-07-16T18:02:27.551182",
     "status": "completed"
    },
    "tags": []
   },
   "source": [
    "### Top 10 years when most books got published ###"
   ]
  },
  {
   "cell_type": "code",
   "execution_count": 11,
   "id": "9af7101a",
   "metadata": {
    "execution": {
     "iopub.execute_input": "2023-07-16T18:02:27.593713Z",
     "iopub.status.busy": "2023-07-16T18:02:27.593400Z",
     "iopub.status.idle": "2023-07-16T18:02:27.861286Z",
     "shell.execute_reply": "2023-07-16T18:02:27.860439Z"
    },
    "papermill": {
     "duration": 0.284138,
     "end_time": "2023-07-16T18:02:27.863050",
     "exception": false,
     "start_time": "2023-07-16T18:02:27.578912",
     "status": "completed"
    },
    "tags": []
   },
   "outputs": [
    {
     "data": {
      "image/png": "[encoded data removed]",
      "text/plain": [
       "<Figure size 1000x600 with 1 Axes>"
      ]
     },
     "metadata": {},
     "output_type": "display_data"
    }
   ],
   "source": [
    "# Group the data by Year-Of-Publication and count the number of books in each year\n",
    "year_counts = books['Year-Of-Publication'].value_counts().sort_values(ascending=False)\n",
    "\n",
    "\n",
    "# Top 10 years with the most books published\n",
    "top_10_years = year_counts.head(10)\n",
    "\n",
    "# Convert years to integers\n",
    "top_10_years.index = top_10_years.index.astype(int)\n",
    "\n",
    "# Create a bar chart\n",
    "plt.figure(figsize=(10, 6))\n",
    "top_10_years.plot(kind='bar')\n",
    "plt.title('Number of Books Published by Year')\n",
    "plt.xlabel('Year of Publication')\n",
    "plt.ylabel('Number of Books')\n",
    "\n",
    "plt.xticks(rotation=45)\n",
    "plt.tight_layout()\n",
    "\n",
    "plt.show()\n",
    "\n"
   ]
  },
  {
   "cell_type": "markdown",
   "id": "37f6d55b",
   "metadata": {
    "papermill": {
     "duration": 0.013996,
     "end_time": "2023-07-16T18:02:27.891406",
     "exception": false,
     "start_time": "2023-07-16T18:02:27.877410",
     "status": "completed"
    },
    "tags": []
   },
   "source": [
    "### Top 10 popular books ###"
   ]
  },
  {
   "cell_type": "code",
   "execution_count": 12,
   "id": "237ad36a",
   "metadata": {
    "execution": {
     "iopub.execute_input": "2023-07-16T18:02:27.921160Z",
     "iopub.status.busy": "2023-07-16T18:02:27.920865Z",
     "iopub.status.idle": "2023-07-16T18:02:29.097538Z",
     "shell.execute_reply": "2023-07-16T18:02:29.096841Z"
    },
    "papermill": {
     "duration": 1.193496,
     "end_time": "2023-07-16T18:02:29.099114",
     "exception": false,
     "start_time": "2023-07-16T18:02:27.905618",
     "status": "completed"
    },
    "tags": []
   },
   "outputs": [
    {
     "data": {
      "image/png": "[encoded data removed]",
      "text/plain": [
       "<Figure size 1000x600 with 1 Axes>"
      ]
     },
     "metadata": {},
     "output_type": "display_data"
    }
   ],
   "source": [
    "#Top 10 popular books\n",
    "# Merge the books and ratings dataframes on the common ISBN column\n",
    "merged_df = pd.merge(books, ratings, on='ISBN')\n",
    "\n",
    "# Calculate the count of ratings for each book\n",
    "book_ratings_count = merged_df['ISBN'].value_counts().head(10)\n",
    "\n",
    "# Get the top 10 popular books based on ratings count\n",
    "top_10_popular_books = books[books['ISBN'].isin(book_ratings_count.index)]\n",
    "\n",
    "# Create a bar chart to visualize the top 10 popular books\n",
    "plt.figure(figsize=(10, 6))\n",
    "plt.bar(top_10_popular_books['Book-Title'], book_ratings_count)\n",
    "plt.title('Top 10 Popular Books')\n",
    "plt.xlabel('Book Title')\n",
    "plt.ylabel('Number of Ratings')\n",
    "plt.xticks(rotation=45, ha='right')\n",
    "plt.tight_layout()\n",
    "plt.show()\n",
    "\n"
   ]
  },
  {
   "cell_type": "markdown",
   "id": "c3f1120a",
   "metadata": {
    "papermill": {
     "duration": 0.014346,
     "end_time": "2023-07-16T18:02:29.128347",
     "exception": false,
     "start_time": "2023-07-16T18:02:29.114001",
     "status": "completed"
    },
    "tags": []
   },
   "source": [
    "# Popularity based recommendation"
   ]
  },
  {
   "cell_type": "markdown",
   "id": "0d887651",
   "metadata": {
    "papermill": {
     "duration": 0.01422,
     "end_time": "2023-07-16T18:02:29.156950",
     "exception": false,
     "start_time": "2023-07-16T18:02:29.142730",
     "status": "completed"
    },
    "tags": []
   },
   "source": [
    "Imagine you're in a library, surrounded by countless books on the shelves. You're not sure which book to pick and read next. Then, you notice that there's one book that many people seem to be borrowing and talking about. They say it's a captivating and enjoyable read.\n",
    "\n",
    "Based on this buzz and the fact that so many people are interested in that book, you become curious. You think to yourself, \"If so many people are loving it, maybe I should give it a try too.\"\n",
    "\n",
    "That's how popularity book recommendation works. It suggests books that are popular and widely read among a large number of people. The recommendation system takes into account the books that are in high demand, frequently borrowed, or positively reviewed by many readers.\n",
    "\n",
    "The idea behind popularity book recommendation is that if a book has gained significant attention and praise from a broad audience, it's likely to be a worthwhile read for you too. It's like joining a reading trend and exploring a book that has captured the interest and enjoyment of many others."
   ]
  },
  {
   "cell_type": "markdown",
   "id": "50cb01d6",
   "metadata": {
    "papermill": {
     "duration": 0.014216,
     "end_time": "2023-07-16T18:02:29.185541",
     "exception": false,
     "start_time": "2023-07-16T18:02:29.171325",
     "status": "completed"
    },
    "tags": []
   },
   "source": [
    "We will display a list of the **top 50 books based on their average ratings**. However, it's important to consider that some books may have received high ratings with only a few votes, which might not accurately reflect their overall quality. To address this, we will only include books that have received a minimum of **250 reviews**. This ensures that the ratings are more reliable and representative of the book's actual popularity and quality."
   ]
  },
  {
   "cell_type": "code",
   "execution_count": 13,
   "id": "40fb1e00",
   "metadata": {
    "execution": {
     "iopub.execute_input": "2023-07-16T18:02:29.216522Z",
     "iopub.status.busy": "2023-07-16T18:02:29.215719Z",
     "iopub.status.idle": "2023-07-16T18:02:30.028974Z",
     "shell.execute_reply": "2023-07-16T18:02:30.027803Z"
    },
    "papermill": {
     "duration": 0.830767,
     "end_time": "2023-07-16T18:02:30.030820",
     "exception": false,
     "start_time": "2023-07-16T18:02:29.200053",
     "status": "completed"
    },
    "tags": []
   },
   "outputs": [
    {
     "name": "stdout",
     "output_type": "stream",
     "text": [
      "before merged\n",
      "ratings shape: (1149780, 3)\n",
      "Books shape: (271360, 8)\n",
      "after merged: (1031136, 10)\n"
     ]
    }
   ],
   "source": [
    "#we are going to used only Books and rating dataset for our popularity\n",
    "#Lets merged it two datasets \n",
    "print(\"before merged\")\n",
    "print(\"ratings shape:\",ratings.shape)\n",
    "print(\"Books shape:\",books.shape)\n",
    "books_ratings=ratings.merge(books,on='ISBN')\n",
    "print(\"after merged:\",books_ratings.shape)"
   ]
  },
  {
   "cell_type": "markdown",
   "id": "ced4918c",
   "metadata": {
    "execution": {
     "iopub.execute_input": "2023-07-14T12:29:53.772546Z",
     "iopub.status.busy": "2023-07-14T12:29:53.772106Z",
     "iopub.status.idle": "2023-07-14T12:29:53.777672Z",
     "shell.execute_reply": "2023-07-14T12:29:53.776354Z",
     "shell.execute_reply.started": "2023-07-14T12:29:53.772514Z"
    },
    "papermill": {
     "duration": 0.014858,
     "end_time": "2023-07-16T18:02:30.061093",
     "exception": false,
     "start_time": "2023-07-16T18:02:30.046235",
     "status": "completed"
    },
    "tags": []
   },
   "source": [
    "#### Now, lets calculate average rating of each books and take only those books where total ratings >250(Assumption) ####"
   ]
  },
  {
   "cell_type": "markdown",
   "id": "3ffdcfca",
   "metadata": {
    "papermill": {
     "duration": 0.014731,
     "end_time": "2023-07-16T18:02:30.090730",
     "exception": false,
     "start_time": "2023-07-16T18:02:30.075999",
     "status": "completed"
    },
    "tags": []
   },
   "source": [
    "Below code takes a dataframe with book ratings, groups it by book titles, counts the number of ratings for each book, and creates a new dataframe with the book titles and their respective counts of ratings. It then renames the column representing the count of ratings to 'num_ratings' for clarity."
   ]
  },
  {
   "cell_type": "markdown",
   "id": "4f740222",
   "metadata": {
    "execution": {
     "iopub.execute_input": "2023-07-14T12:28:55.429690Z",
     "iopub.status.busy": "2023-07-14T12:28:55.429208Z",
     "iopub.status.idle": "2023-07-14T12:28:55.437852Z",
     "shell.execute_reply": "2023-07-14T12:28:55.436295Z",
     "shell.execute_reply.started": "2023-07-14T12:28:55.429653Z"
    },
    "papermill": {
     "duration": 0.014651,
     "end_time": "2023-07-16T18:02:30.120234",
     "exception": false,
     "start_time": "2023-07-16T18:02:30.105583",
     "status": "completed"
    },
    "tags": []
   },
   "source": [
    "Group by : \"https://www.kaggle.com/code/adityaghuse/introduction-to-group-by\""
   ]
  },
  {
   "cell_type": "code",
   "execution_count": 14,
   "id": "3df68011",
   "metadata": {
    "execution": {
     "iopub.execute_input": "2023-07-16T18:02:30.151382Z",
     "iopub.status.busy": "2023-07-16T18:02:30.151090Z",
     "iopub.status.idle": "2023-07-16T18:02:31.737087Z",
     "shell.execute_reply": "2023-07-16T18:02:31.735832Z"
    },
    "papermill": {
     "duration": 1.604366,
     "end_time": "2023-07-16T18:02:31.739578",
     "exception": false,
     "start_time": "2023-07-16T18:02:30.135212",
     "status": "completed"
    },
    "tags": []
   },
   "outputs": [],
   "source": [
    "# Group the 'books_ratings' dataframe by the 'Book-Title' column and count the number of occurrences of 'Book-Rating'\n",
    "num_rating_df = books_ratings.groupby('Book-Title').count()['Book-Rating'].reset_index()\n",
    "\n",
    "# Rename the 'Book-Rating' column to 'num_ratings' in the 'num_rating_df' dataframe\n",
    "num_rating_df.rename(columns={'Book-Rating':'num_ratings'}, inplace=True)"
   ]
  },
  {
   "cell_type": "code",
   "execution_count": 15,
   "id": "6e81ee2d",
   "metadata": {
    "execution": {
     "iopub.execute_input": "2023-07-16T18:02:31.771429Z",
     "iopub.status.busy": "2023-07-16T18:02:31.771124Z",
     "iopub.status.idle": "2023-07-16T18:02:31.779043Z",
     "shell.execute_reply": "2023-07-16T18:02:31.778242Z"
    },
    "papermill": {
     "duration": 0.025828,
     "end_time": "2023-07-16T18:02:31.781021",
     "exception": false,
     "start_time": "2023-07-16T18:02:31.755193",
     "status": "completed"
    },
    "tags": []
   },
   "outputs": [
    {
     "data": {
      "text/html": [
       "<div>\n",
       "<style scoped>\n",
       "    .dataframe tbody tr th:only-of-type {\n",
       "        vertical-align: middle;\n",
       "    }\n",
       "\n",
       "    .dataframe tbody tr th {\n",
       "        vertical-align: top;\n",
       "    }\n",
       "\n",
       "    .dataframe thead th {\n",
       "        text-align: right;\n",
       "    }\n",
       "</style>\n",
       "<table border=\"1\" class=\"dataframe\">\n",
       "  <thead>\n",
       "    <tr style=\"text-align: right;\">\n",
       "      <th></th>\n",
       "      <th>Book-Title</th>\n",
       "      <th>num_ratings</th>\n",
       "    </tr>\n",
       "  </thead>\n",
       "  <tbody>\n",
       "    <tr>\n",
       "      <th>0</th>\n",
       "      <td>A Light in the Storm: The Civil War Diary of ...</td>\n",
       "      <td>4</td>\n",
       "    </tr>\n",
       "    <tr>\n",
       "      <th>1</th>\n",
       "      <td>Always Have Popsicles</td>\n",
       "      <td>1</td>\n",
       "    </tr>\n",
       "  </tbody>\n",
       "</table>\n",
       "</div>"
      ],
      "text/plain": [
       "                                          Book-Title  num_ratings\n",
       "0   A Light in the Storm: The Civil War Diary of ...            4\n",
       "1                              Always Have Popsicles            1"
      ]
     },
     "execution_count": 15,
     "metadata": {},
     "output_type": "execute_result"
    }
   ],
   "source": [
    "num_rating_df.head(2)"
   ]
  },
  {
   "cell_type": "markdown",
   "id": "33eb7ec9",
   "metadata": {
    "papermill": {
     "duration": 0.01498,
     "end_time": "2023-07-16T18:02:31.811940",
     "exception": false,
     "start_time": "2023-07-16T18:02:31.796960",
     "status": "completed"
    },
    "tags": []
   },
   "source": [
    "#### Now we have number of rating for each book,Lets figure out average rating for each book ####"
   ]
  },
  {
   "cell_type": "markdown",
   "id": "8dfbe957",
   "metadata": {
    "papermill": {
     "duration": 0.014678,
     "end_time": "2023-07-16T18:02:31.841612",
     "exception": false,
     "start_time": "2023-07-16T18:02:31.826934",
     "status": "completed"
    },
    "tags": []
   },
   "source": [
    "Below code takes a dataframe with book ratings and names, groups it by book titles, calculates the average rating for each book, and creates a new dataframe with the book titles and their respective average ratings. It then renames the column representing the average rating to 'avg_rating' for clarity."
   ]
  },
  {
   "cell_type": "code",
   "execution_count": 16,
   "id": "0854e118",
   "metadata": {
    "execution": {
     "iopub.execute_input": "2023-07-16T18:02:31.873522Z",
     "iopub.status.busy": "2023-07-16T18:02:31.873057Z",
     "iopub.status.idle": "2023-07-16T18:02:32.361331Z",
     "shell.execute_reply": "2023-07-16T18:02:32.360515Z"
    },
    "papermill": {
     "duration": 0.506164,
     "end_time": "2023-07-16T18:02:32.363058",
     "exception": false,
     "start_time": "2023-07-16T18:02:31.856894",
     "status": "completed"
    },
    "tags": []
   },
   "outputs": [
    {
     "data": {
      "text/html": [
       "<div>\n",
       "<style scoped>\n",
       "    .dataframe tbody tr th:only-of-type {\n",
       "        vertical-align: middle;\n",
       "    }\n",
       "\n",
       "    .dataframe tbody tr th {\n",
       "        vertical-align: top;\n",
       "    }\n",
       "\n",
       "    .dataframe thead th {\n",
       "        text-align: right;\n",
       "    }\n",
       "</style>\n",
       "<table border=\"1\" class=\"dataframe\">\n",
       "  <thead>\n",
       "    <tr style=\"text-align: right;\">\n",
       "      <th></th>\n",
       "      <th>Book-Title</th>\n",
       "      <th>avg_rating</th>\n",
       "    </tr>\n",
       "  </thead>\n",
       "  <tbody>\n",
       "    <tr>\n",
       "      <th>0</th>\n",
       "      <td>A Light in the Storm: The Civil War Diary of ...</td>\n",
       "      <td>2.25</td>\n",
       "    </tr>\n",
       "    <tr>\n",
       "      <th>1</th>\n",
       "      <td>Always Have Popsicles</td>\n",
       "      <td>0.00</td>\n",
       "    </tr>\n",
       "  </tbody>\n",
       "</table>\n",
       "</div>"
      ],
      "text/plain": [
       "                                          Book-Title  avg_rating\n",
       "0   A Light in the Storm: The Civil War Diary of ...        2.25\n",
       "1                              Always Have Popsicles        0.00"
      ]
     },
     "execution_count": 16,
     "metadata": {},
     "output_type": "execute_result"
    }
   ],
   "source": [
    "# Group the 'ratings_with_name' dataframe by the 'Book-Title' column and calculate the mean of 'Book-Rating'\n",
    "#avg_rating_df = books_ratings.groupby('Book-Title').mean()['Book-Rating'].reset_index()\n",
    "\n",
    "avg_rating_df = books_ratings.groupby('Book-Title', as_index=False)['Book-Rating'].mean()\n",
    "\n",
    "\n",
    "# Rename the 'Book-Rating' column to 'avg_rating' in the 'avg_rating_df' dataframe\n",
    "avg_rating_df.rename(columns={'Book-Rating':'avg_rating'}, inplace=True)\n",
    "\n",
    "avg_rating_df.head(2)\n",
    "\n",
    "#avg_rating_df = books_ratings.groupby('Book-Title', as_index=False)['Book-Rating'].mean()\n"
   ]
  },
  {
   "cell_type": "markdown",
   "id": "1911cd24",
   "metadata": {
    "papermill": {
     "duration": 0.015209,
     "end_time": "2023-07-16T18:02:32.395560",
     "exception": false,
     "start_time": "2023-07-16T18:02:32.380351",
     "status": "completed"
    },
    "tags": []
   },
   "source": [
    "#### Now,Lets merge both the dataframe ***num_rating_df*** and ***avg_rating_df*** and filter only those books where total ratings >250 ####"
   ]
  },
  {
   "cell_type": "code",
   "execution_count": 17,
   "id": "fd9abde6",
   "metadata": {
    "execution": {
     "iopub.execute_input": "2023-07-16T18:02:32.427664Z",
     "iopub.status.busy": "2023-07-16T18:02:32.427159Z",
     "iopub.status.idle": "2023-07-16T18:02:32.612224Z",
     "shell.execute_reply": "2023-07-16T18:02:32.611185Z"
    },
    "papermill": {
     "duration": 0.203223,
     "end_time": "2023-07-16T18:02:32.614030",
     "exception": false,
     "start_time": "2023-07-16T18:02:32.410807",
     "status": "completed"
    },
    "tags": []
   },
   "outputs": [
    {
     "data": {
      "text/html": [
       "<div>\n",
       "<style scoped>\n",
       "    .dataframe tbody tr th:only-of-type {\n",
       "        vertical-align: middle;\n",
       "    }\n",
       "\n",
       "    .dataframe tbody tr th {\n",
       "        vertical-align: top;\n",
       "    }\n",
       "\n",
       "    .dataframe thead th {\n",
       "        text-align: right;\n",
       "    }\n",
       "</style>\n",
       "<table border=\"1\" class=\"dataframe\">\n",
       "  <thead>\n",
       "    <tr style=\"text-align: right;\">\n",
       "      <th></th>\n",
       "      <th>Book-Title</th>\n",
       "      <th>num_ratings</th>\n",
       "      <th>avg_rating</th>\n",
       "    </tr>\n",
       "  </thead>\n",
       "  <tbody>\n",
       "    <tr>\n",
       "      <th>0</th>\n",
       "      <td>A Light in the Storm: The Civil War Diary of ...</td>\n",
       "      <td>4</td>\n",
       "      <td>2.25</td>\n",
       "    </tr>\n",
       "    <tr>\n",
       "      <th>1</th>\n",
       "      <td>Always Have Popsicles</td>\n",
       "      <td>1</td>\n",
       "      <td>0.00</td>\n",
       "    </tr>\n",
       "  </tbody>\n",
       "</table>\n",
       "</div>"
      ],
      "text/plain": [
       "                                          Book-Title  num_ratings  avg_rating\n",
       "0   A Light in the Storm: The Civil War Diary of ...            4        2.25\n",
       "1                              Always Have Popsicles            1        0.00"
      ]
     },
     "execution_count": 17,
     "metadata": {},
     "output_type": "execute_result"
    }
   ],
   "source": [
    "# Merge the 'num_rating_df' and 'avg_rating_df' DataFrames on the 'Book-Title' column\n",
    "popular_df = num_rating_df.merge(avg_rating_df, on='Book-Title')\n",
    "popular_df.head(2)"
   ]
  },
  {
   "cell_type": "markdown",
   "id": "ae10e833",
   "metadata": {
    "papermill": {
     "duration": 0.015197,
     "end_time": "2023-07-16T18:02:32.645252",
     "exception": false,
     "start_time": "2023-07-16T18:02:32.630055",
     "status": "completed"
    },
    "tags": []
   },
   "source": [
    "#### Now as we can see we have number of ratings and average ratings w.r.to each movie \n",
    "#### We want to keep only those movies which has total rating >250 ####"
   ]
  },
  {
   "cell_type": "markdown",
   "id": "5e3c1af9",
   "metadata": {
    "papermill": {
     "duration": 0.015117,
     "end_time": "2023-07-16T18:02:32.675632",
     "exception": false,
     "start_time": "2023-07-16T18:02:32.660515",
     "status": "completed"
    },
    "tags": []
   },
   "source": [
    "Below code filters the 'popular_df' dataframe to include only books with a minimum of 250 ratings, sorts them based on their average ratings in descending order, and finally selects the top 50 books with the highest average ratings. This helps us to  identify the most popular books with high ratings among those that have received a significant number of ratings."
   ]
  },
  {
   "cell_type": "code",
   "execution_count": 18,
   "id": "b7b8f398",
   "metadata": {
    "execution": {
     "iopub.execute_input": "2023-07-16T18:02:32.707624Z",
     "iopub.status.busy": "2023-07-16T18:02:32.707290Z",
     "iopub.status.idle": "2023-07-16T18:02:32.713180Z",
     "shell.execute_reply": "2023-07-16T18:02:32.712540Z"
    },
    "papermill": {
     "duration": 0.02392,
     "end_time": "2023-07-16T18:02:32.714820",
     "exception": false,
     "start_time": "2023-07-16T18:02:32.690900",
     "status": "completed"
    },
    "tags": []
   },
   "outputs": [],
   "source": [
    "# Filter and select the top 50 popular items with a minimum of 250 ratings, based on average rating\n",
    "popular_df = popular_df[popular_df['num_ratings'] >= 250].sort_values('avg_rating', ascending=False).head(50)"
   ]
  },
  {
   "cell_type": "code",
   "execution_count": 19,
   "id": "97627a30",
   "metadata": {
    "execution": {
     "iopub.execute_input": "2023-07-16T18:02:32.748233Z",
     "iopub.status.busy": "2023-07-16T18:02:32.747682Z",
     "iopub.status.idle": "2023-07-16T18:02:32.756583Z",
     "shell.execute_reply": "2023-07-16T18:02:32.755953Z"
    },
    "papermill": {
     "duration": 0.027155,
     "end_time": "2023-07-16T18:02:32.758201",
     "exception": false,
     "start_time": "2023-07-16T18:02:32.731046",
     "status": "completed"
    },
    "tags": []
   },
   "outputs": [
    {
     "data": {
      "text/html": [
       "<div>\n",
       "<style scoped>\n",
       "    .dataframe tbody tr th:only-of-type {\n",
       "        vertical-align: middle;\n",
       "    }\n",
       "\n",
       "    .dataframe tbody tr th {\n",
       "        vertical-align: top;\n",
       "    }\n",
       "\n",
       "    .dataframe thead th {\n",
       "        text-align: right;\n",
       "    }\n",
       "</style>\n",
       "<table border=\"1\" class=\"dataframe\">\n",
       "  <thead>\n",
       "    <tr style=\"text-align: right;\">\n",
       "      <th></th>\n",
       "      <th>Book-Title</th>\n",
       "      <th>num_ratings</th>\n",
       "      <th>avg_rating</th>\n",
       "    </tr>\n",
       "  </thead>\n",
       "  <tbody>\n",
       "    <tr>\n",
       "      <th>80434</th>\n",
       "      <td>Harry Potter and the Prisoner of Azkaban (Book 3)</td>\n",
       "      <td>428</td>\n",
       "      <td>5.852804</td>\n",
       "    </tr>\n",
       "    <tr>\n",
       "      <th>80422</th>\n",
       "      <td>Harry Potter and the Goblet of Fire (Book 4)</td>\n",
       "      <td>387</td>\n",
       "      <td>5.824289</td>\n",
       "    </tr>\n",
       "  </tbody>\n",
       "</table>\n",
       "</div>"
      ],
      "text/plain": [
       "                                              Book-Title  num_ratings  \\\n",
       "80434  Harry Potter and the Prisoner of Azkaban (Book 3)          428   \n",
       "80422       Harry Potter and the Goblet of Fire (Book 4)          387   \n",
       "\n",
       "       avg_rating  \n",
       "80434    5.852804  \n",
       "80422    5.824289  "
      ]
     },
     "execution_count": 19,
     "metadata": {},
     "output_type": "execute_result"
    }
   ],
   "source": [
    "popular_df.head(2)"
   ]
  },
  {
   "cell_type": "markdown",
   "id": "6ea3886b",
   "metadata": {
    "execution": {
     "iopub.execute_input": "2023-07-14T13:16:54.201878Z",
     "iopub.status.busy": "2023-07-14T13:16:54.201418Z",
     "iopub.status.idle": "2023-07-14T13:16:54.207767Z",
     "shell.execute_reply": "2023-07-14T13:16:54.206205Z",
     "shell.execute_reply.started": "2023-07-14T13:16:54.201840Z"
    },
    "papermill": {
     "duration": 0.015338,
     "end_time": "2023-07-16T18:02:32.789540",
     "exception": false,
     "start_time": "2023-07-16T18:02:32.774202",
     "status": "completed"
    },
    "tags": []
   },
   "source": [
    "### We have our top most 50 Popular books based on their average ratings. ###"
   ]
  },
  {
   "cell_type": "markdown",
   "id": "afde2a63",
   "metadata": {
    "execution": {
     "iopub.execute_input": "2023-07-14T18:26:20.126894Z",
     "iopub.status.busy": "2023-07-14T18:26:20.126421Z",
     "iopub.status.idle": "2023-07-14T18:26:20.135537Z",
     "shell.execute_reply": "2023-07-14T18:26:20.134358Z",
     "shell.execute_reply.started": "2023-07-14T18:26:20.126836Z"
    },
    "papermill": {
     "duration": 0.015132,
     "end_time": "2023-07-16T18:02:32.820118",
     "exception": false,
     "start_time": "2023-07-16T18:02:32.804986",
     "status": "completed"
    },
    "tags": []
   },
   "source": [
    "# Collaborative filtering"
   ]
  },
  {
   "cell_type": "markdown",
   "id": "8080ec42",
   "metadata": {
    "papermill": {
     "duration": 0.015353,
     "end_time": "2023-07-16T18:02:32.851107",
     "exception": false,
     "start_time": "2023-07-16T18:02:32.835754",
     "status": "completed"
    },
    "tags": []
   },
   "source": [
    "Collaborative filtering analyzes the preferences and behaviors of different users, identifies patterns, and makes recommendations based on similarities between users. Instead of relying solely on your individual preferences, collaborative filtering takes into account the preferences of other users who have similar tastes to improve the accuracy of its recommendations.\n",
    "\n",
    "Imagine you're at a bookstore and you're trying to decide which book to buy. The store owner suggests books based on what other customers with similar tastes have enjoyed.\n",
    "\n",
    "The store owner keeps track of what books people buy and likes to see if there are any patterns. They notice that customers who have liked similar books as you also tend to enjoy a specific book that you haven't read yet.\n",
    "\n",
    "Using this information, the store owner recommends that book to you because they think you'll probably like it too. They're using the collective knowledge of other people who have similar reading preferences to help you find books you might enjoy.\n",
    "\n",
    "It's like having a knowledgeable friend who knows what books you might like based on what other people with similar tastes have enjoyed. The store owner is using this \"wisdom of the crowd\" to make personalized recommendations just for you.\n",
    "\n",
    "collaborative filtering uses the \"wisdom of the crowd\" to suggest items (in this case, books) that you might like based on the preferences of similar users. It's like getting personalized recommendations from people who have similar reading interests to yours."
   ]
  },
  {
   "cell_type": "markdown",
   "id": "b36db01d",
   "metadata": {
    "papermill": {
     "duration": 0.015295,
     "end_time": "2023-07-16T18:02:32.882079",
     "exception": false,
     "start_time": "2023-07-16T18:02:32.866784",
     "status": "completed"
    },
    "tags": []
   },
   "source": [
    "To build a recommender system based on how users rated books, we have two datasets: one containing information about books and another containing user ratings. We will merge these datasets to create a new dataset.\n",
    "\n",
    "However, to focus on experienced readers, we will only consider users who have rated at least **200 books**. This ensures that we are taking into account the opinions of users who have a substantial history of reading and rating books.\n",
    "\n",
    "Additionally, we will only include books that have received a minimum of **50 ratings**. By doing so, we prioritize books that have been reviewed by a significant number of readers, indicating a higher level of popularity or attention.\n"
   ]
  },
  {
   "cell_type": "code",
   "execution_count": 20,
   "id": "7b38a8ca",
   "metadata": {
    "execution": {
     "iopub.execute_input": "2023-07-16T18:02:32.916445Z",
     "iopub.status.busy": "2023-07-16T18:02:32.915402Z",
     "iopub.status.idle": "2023-07-16T18:02:33.673395Z",
     "shell.execute_reply": "2023-07-16T18:02:33.672519Z"
    },
    "papermill": {
     "duration": 0.776996,
     "end_time": "2023-07-16T18:02:33.675208",
     "exception": false,
     "start_time": "2023-07-16T18:02:32.898212",
     "status": "completed"
    },
    "tags": []
   },
   "outputs": [
    {
     "name": "stdout",
     "output_type": "stream",
     "text": [
      "before merged\n",
      "ratings shape: (1149780, 3)\n",
      "Books shape: (271360, 8)\n",
      "after merged: (1031136, 10)\n"
     ]
    }
   ],
   "source": [
    "#Lets merged it two datasets \n",
    "print(\"before merged\")\n",
    "print(\"ratings shape:\",ratings.shape)\n",
    "print(\"Books shape:\",books.shape)\n",
    "books_ratings_collab=ratings.merge(books,on='ISBN')\n",
    "print(\"after merged:\",books_ratings_collab.shape)"
   ]
  },
  {
   "cell_type": "markdown",
   "id": "5cec57a3",
   "metadata": {
    "papermill": {
     "duration": 0.015889,
     "end_time": "2023-07-16T18:02:33.707292",
     "exception": false,
     "start_time": "2023-07-16T18:02:33.691403",
     "status": "completed"
    },
    "tags": []
   },
   "source": [
    "Now lets take only those user whoi had rate atleast 200 books"
   ]
  },
  {
   "cell_type": "code",
   "execution_count": 21,
   "id": "275de74f",
   "metadata": {
    "execution": {
     "iopub.execute_input": "2023-07-16T18:02:33.740770Z",
     "iopub.status.busy": "2023-07-16T18:02:33.740410Z",
     "iopub.status.idle": "2023-07-16T18:02:33.751742Z",
     "shell.execute_reply": "2023-07-16T18:02:33.750961Z"
    },
    "papermill": {
     "duration": 0.029896,
     "end_time": "2023-07-16T18:02:33.753207",
     "exception": false,
     "start_time": "2023-07-16T18:02:33.723311",
     "status": "completed"
    },
    "tags": []
   },
   "outputs": [
    {
     "data": {
      "text/html": [
       "<div>\n",
       "<style scoped>\n",
       "    .dataframe tbody tr th:only-of-type {\n",
       "        vertical-align: middle;\n",
       "    }\n",
       "\n",
       "    .dataframe tbody tr th {\n",
       "        vertical-align: top;\n",
       "    }\n",
       "\n",
       "    .dataframe thead th {\n",
       "        text-align: right;\n",
       "    }\n",
       "</style>\n",
       "<table border=\"1\" class=\"dataframe\">\n",
       "  <thead>\n",
       "    <tr style=\"text-align: right;\">\n",
       "      <th></th>\n",
       "      <th>User-ID</th>\n",
       "      <th>ISBN</th>\n",
       "      <th>Book-Rating</th>\n",
       "      <th>Book-Title</th>\n",
       "      <th>Book-Author</th>\n",
       "      <th>Year-Of-Publication</th>\n",
       "      <th>Publisher</th>\n",
       "      <th>Image-URL-S</th>\n",
       "      <th>Image-URL-M</th>\n",
       "      <th>Image-URL-L</th>\n",
       "    </tr>\n",
       "  </thead>\n",
       "  <tbody>\n",
       "    <tr>\n",
       "      <th>0</th>\n",
       "      <td>276725</td>\n",
       "      <td>034545104X</td>\n",
       "      <td>0</td>\n",
       "      <td>Flesh Tones: A Novel</td>\n",
       "      <td>M. J. Rose</td>\n",
       "      <td>2002</td>\n",
       "      <td>Ballantine Books</td>\n",
       "      <td>http://images.amazon.com/images/P/034545104X.0...</td>\n",
       "      <td>http://images.amazon.com/images/P/034545104X.0...</td>\n",
       "      <td>http://images.amazon.com/images/P/034545104X.0...</td>\n",
       "    </tr>\n",
       "    <tr>\n",
       "      <th>1</th>\n",
       "      <td>2313</td>\n",
       "      <td>034545104X</td>\n",
       "      <td>5</td>\n",
       "      <td>Flesh Tones: A Novel</td>\n",
       "      <td>M. J. Rose</td>\n",
       "      <td>2002</td>\n",
       "      <td>Ballantine Books</td>\n",
       "      <td>http://images.amazon.com/images/P/034545104X.0...</td>\n",
       "      <td>http://images.amazon.com/images/P/034545104X.0...</td>\n",
       "      <td>http://images.amazon.com/images/P/034545104X.0...</td>\n",
       "    </tr>\n",
       "  </tbody>\n",
       "</table>\n",
       "</div>"
      ],
      "text/plain": [
       "   User-ID        ISBN  Book-Rating            Book-Title Book-Author  \\\n",
       "0   276725  034545104X            0  Flesh Tones: A Novel  M. J. Rose   \n",
       "1     2313  034545104X            5  Flesh Tones: A Novel  M. J. Rose   \n",
       "\n",
       "  Year-Of-Publication         Publisher  \\\n",
       "0                2002  Ballantine Books   \n",
       "1                2002  Ballantine Books   \n",
       "\n",
       "                                         Image-URL-S  \\\n",
       "0  http://images.amazon.com/images/P/034545104X.0...   \n",
       "1  http://images.amazon.com/images/P/034545104X.0...   \n",
       "\n",
       "                                         Image-URL-M  \\\n",
       "0  http://images.amazon.com/images/P/034545104X.0...   \n",
       "1  http://images.amazon.com/images/P/034545104X.0...   \n",
       "\n",
       "                                         Image-URL-L  \n",
       "0  http://images.amazon.com/images/P/034545104X.0...  \n",
       "1  http://images.amazon.com/images/P/034545104X.0...  "
      ]
     },
     "execution_count": 21,
     "metadata": {},
     "output_type": "execute_result"
    }
   ],
   "source": [
    "books_ratings_collab.head(2)"
   ]
  },
  {
   "cell_type": "markdown",
   "id": "69b08fa1",
   "metadata": {
    "execution": {
     "iopub.execute_input": "2023-07-14T18:01:35.584351Z",
     "iopub.status.busy": "2023-07-14T18:01:35.583885Z",
     "iopub.status.idle": "2023-07-14T18:01:35.594410Z",
     "shell.execute_reply": "2023-07-14T18:01:35.592940Z",
     "shell.execute_reply.started": "2023-07-14T18:01:35.584297Z"
    },
    "papermill": {
     "duration": 0.01565,
     "end_time": "2023-07-16T18:02:33.784866",
     "exception": false,
     "start_time": "2023-07-16T18:02:33.769216",
     "status": "completed"
    },
    "tags": []
   },
   "source": [
    "Now we will keep only those users who have rated minimum 200 reviews for a book"
   ]
  },
  {
   "cell_type": "code",
   "execution_count": 22,
   "id": "36f4e576",
   "metadata": {
    "execution": {
     "iopub.execute_input": "2023-07-16T18:02:33.817774Z",
     "iopub.status.busy": "2023-07-16T18:02:33.817456Z",
     "iopub.status.idle": "2023-07-16T18:02:33.912760Z",
     "shell.execute_reply": "2023-07-16T18:02:33.911920Z"
    },
    "papermill": {
     "duration": 0.113844,
     "end_time": "2023-07-16T18:02:33.914384",
     "exception": false,
     "start_time": "2023-07-16T18:02:33.800540",
     "status": "completed"
    },
    "tags": []
   },
   "outputs": [
    {
     "data": {
      "text/plain": [
       "User-ID\n",
       "2          1\n",
       "8         17\n",
       "9          3\n",
       "10         1\n",
       "12         1\n",
       "          ..\n",
       "278846     1\n",
       "278849     4\n",
       "278851    23\n",
       "278852     1\n",
       "278854     8\n",
       "Name: Book-Title, Length: 92106, dtype: int64"
      ]
     },
     "execution_count": 22,
     "metadata": {},
     "output_type": "execute_result"
    }
   ],
   "source": [
    "books_ratings_collab.groupby('User-ID')['Book-Title'].count()"
   ]
  },
  {
   "cell_type": "markdown",
   "id": "997b2273",
   "metadata": {
    "execution": {
     "iopub.execute_input": "2023-07-14T17:46:34.715751Z",
     "iopub.status.busy": "2023-07-14T17:46:34.715297Z",
     "iopub.status.idle": "2023-07-14T17:46:34.724291Z",
     "shell.execute_reply": "2023-07-14T17:46:34.722421Z",
     "shell.execute_reply.started": "2023-07-14T17:46:34.715718Z"
    },
    "papermill": {
     "duration": 0.015979,
     "end_time": "2023-07-16T18:02:33.946973",
     "exception": false,
     "start_time": "2023-07-16T18:02:33.930994",
     "status": "completed"
    },
    "tags": []
   },
   "source": [
    "#### We have total 92106 users who have rated the books,Lets find out how many of them rated at least 200 books ####"
   ]
  },
  {
   "cell_type": "markdown",
   "id": "392d96f8",
   "metadata": {
    "papermill": {
     "duration": 0.015715,
     "end_time": "2023-07-16T18:02:33.978736",
     "exception": false,
     "start_time": "2023-07-16T18:02:33.963021",
     "status": "completed"
    },
    "tags": []
   },
   "source": [
    "Lets find out users who have rated more than 200 books"
   ]
  },
  {
   "cell_type": "code",
   "execution_count": 23,
   "id": "c4c33aaf",
   "metadata": {
    "execution": {
     "iopub.execute_input": "2023-07-16T18:02:34.012949Z",
     "iopub.status.busy": "2023-07-16T18:02:34.012598Z",
     "iopub.status.idle": "2023-07-16T18:02:35.225055Z",
     "shell.execute_reply": "2023-07-16T18:02:35.224175Z"
    },
    "papermill": {
     "duration": 1.232102,
     "end_time": "2023-07-16T18:02:35.227148",
     "exception": false,
     "start_time": "2023-07-16T18:02:33.995046",
     "status": "completed"
    },
    "tags": []
   },
   "outputs": [],
   "source": [
    "# Group the 'ratings_with_name' DataFrame by 'User-ID' and count the occurrences of 'Book-Rating' for each user\n",
    "# The result is a Series with the 'User-ID' as the index and the count of ratings as the values\n",
    "user_ratings_count = books_ratings_collab.groupby('User-ID').count()['Book-Rating']\n",
    "\n",
    "# Create a boolean condition by comparing each count with 200, resulting in a Series of True/False values\n",
    "# True indicates that the user has rated more than 200 books, while False indicates they haven't\n",
    "is_experienced_reader = user_ratings_count > 200\n",
    "\n",
    "# Filter the 'user_ratings_count' Series by the True values, resulting in only the indices (User-IDs) of users who have rated more than 200 books\n",
    "experienced_readers = user_ratings_count[is_experienced_reader].index\n",
    "\n"
   ]
  },
  {
   "cell_type": "code",
   "execution_count": 24,
   "id": "351e365e",
   "metadata": {
    "execution": {
     "iopub.execute_input": "2023-07-16T18:02:35.260404Z",
     "iopub.status.busy": "2023-07-16T18:02:35.260105Z",
     "iopub.status.idle": "2023-07-16T18:02:35.563126Z",
     "shell.execute_reply": "2023-07-16T18:02:35.562036Z"
    },
    "papermill": {
     "duration": 0.321607,
     "end_time": "2023-07-16T18:02:35.565059",
     "exception": false,
     "start_time": "2023-07-16T18:02:35.243452",
     "status": "completed"
    },
    "tags": []
   },
   "outputs": [
    {
     "data": {
      "text/plain": [
       "(474007, 10)"
      ]
     },
     "execution_count": 24,
     "metadata": {},
     "output_type": "execute_result"
    }
   ],
   "source": [
    "# Filter the 'ratings_with_name' DataFrame to include only ratings from experienced readers\n",
    "filtered_rating = books_ratings_collab[books_ratings_collab['User-ID'].isin(experienced_readers)]\n",
    "filtered_rating.shape"
   ]
  },
  {
   "cell_type": "markdown",
   "id": "6584fa42",
   "metadata": {
    "papermill": {
     "duration": 0.015802,
     "end_time": "2023-07-16T18:02:35.597369",
     "exception": false,
     "start_time": "2023-07-16T18:02:35.581567",
     "status": "completed"
    },
    "tags": []
   },
   "source": [
    "#### We have found a large group of 474,007 users who are avid readers and have rated at least 200 books in our dataset"
   ]
  },
  {
   "cell_type": "markdown",
   "id": "ca0007de",
   "metadata": {
    "papermill": {
     "duration": 0.015598,
     "end_time": "2023-07-16T18:02:35.628886",
     "exception": false,
     "start_time": "2023-07-16T18:02:35.613288",
     "status": "completed"
    },
    "tags": []
   },
   "source": [
    "Now lets include books that have received a minimum of 50 ratings. "
   ]
  },
  {
   "cell_type": "code",
   "execution_count": 25,
   "id": "1cf27b81",
   "metadata": {
    "execution": {
     "iopub.execute_input": "2023-07-16T18:02:35.661938Z",
     "iopub.status.busy": "2023-07-16T18:02:35.661594Z",
     "iopub.status.idle": "2023-07-16T18:02:36.445556Z",
     "shell.execute_reply": "2023-07-16T18:02:36.444684Z"
    },
    "papermill": {
     "duration": 0.803128,
     "end_time": "2023-07-16T18:02:36.447756",
     "exception": false,
     "start_time": "2023-07-16T18:02:35.644628",
     "status": "completed"
    },
    "tags": []
   },
   "outputs": [],
   "source": [
    "# Group the 'filtered_rating' DataFrame by 'Book-Title' and count the occurrences of 'Book-Rating' for each book\n",
    "# The result is a Series with the 'Book-Title' as the index and the count of ratings as the values\n",
    "book_ratings_count = filtered_rating.groupby('Book-Title').count()['Book-Rating']\n",
    "\n",
    "# Create a boolean condition by comparing each count with 50, resulting in a Series of True/False values\n",
    "# True indicates that the book has received at least 50 ratings, while False indicates it hasn't\n",
    "is_popular_book = book_ratings_count >= 50\n",
    "\n",
    "# Filter the 'book_ratings_count' Series by the True values, resulting in only the indices (Book-Titles) of popular books\n",
    "popular_books = book_ratings_count[is_popular_book].index\n"
   ]
  },
  {
   "cell_type": "code",
   "execution_count": 26,
   "id": "a1d77a2d",
   "metadata": {
    "execution": {
     "iopub.execute_input": "2023-07-16T18:02:36.481546Z",
     "iopub.status.busy": "2023-07-16T18:02:36.481273Z",
     "iopub.status.idle": "2023-07-16T18:02:36.526511Z",
     "shell.execute_reply": "2023-07-16T18:02:36.525748Z"
    },
    "papermill": {
     "duration": 0.06427,
     "end_time": "2023-07-16T18:02:36.528487",
     "exception": false,
     "start_time": "2023-07-16T18:02:36.464217",
     "status": "completed"
    },
    "tags": []
   },
   "outputs": [],
   "source": [
    "# Filter the 'filtered_rating' DataFrame to include only ratings for popular books\n",
    "final_ratings = filtered_rating[filtered_rating['Book-Title'].isin(popular_books)]\n"
   ]
  },
  {
   "cell_type": "markdown",
   "id": "d9ed0161",
   "metadata": {
    "execution": {
     "iopub.execute_input": "2023-07-14T18:52:59.099262Z",
     "iopub.status.busy": "2023-07-14T18:52:59.098732Z",
     "iopub.status.idle": "2023-07-14T18:52:59.107683Z",
     "shell.execute_reply": "2023-07-14T18:52:59.106077Z",
     "shell.execute_reply.started": "2023-07-14T18:52:59.099222Z"
    },
    "papermill": {
     "duration": 0.016128,
     "end_time": "2023-07-16T18:02:36.561007",
     "exception": false,
     "start_time": "2023-07-16T18:02:36.544879",
     "status": "completed"
    },
    "tags": []
   },
   "source": [
    "Now we have experience reader as well as list of books with sufficient number of ratings per each books."
   ]
  },
  {
   "cell_type": "markdown",
   "id": "972ca9be",
   "metadata": {
    "papermill": {
     "duration": 0.015603,
     "end_time": "2023-07-16T18:02:36.592514",
     "exception": false,
     "start_time": "2023-07-16T18:02:36.576911",
     "status": "completed"
    },
    "tags": []
   },
   "source": [
    "Lets create a table where each row represents a specific book, and each column represents a user. The cells of the table contain the ratings given by the users for the corresponding books. This way, all the ratings for each book and user are neatly organized.\n",
    "This could be helpful because it allows us to see the ratings given by each user for each book in a structured format. We can easily look up a specific book and see how different users have rated it.\n",
    "\n",
    "Also,we can easily see how different users have rated books. By identifying users who have similar ratings for certain books, we can find people who have similar preferences. For example, if User A and User B have rated many books similarly, it suggests that they have similar tastes in books."
   ]
  },
  {
   "cell_type": "code",
   "execution_count": 27,
   "id": "1c5dabe3",
   "metadata": {
    "execution": {
     "iopub.execute_input": "2023-07-16T18:02:36.625782Z",
     "iopub.status.busy": "2023-07-16T18:02:36.625459Z",
     "iopub.status.idle": "2023-07-16T18:02:36.662278Z",
     "shell.execute_reply": "2023-07-16T18:02:36.661601Z"
    },
    "papermill": {
     "duration": 0.055802,
     "end_time": "2023-07-16T18:02:36.664207",
     "exception": false,
     "start_time": "2023-07-16T18:02:36.608405",
     "status": "completed"
    },
    "tags": []
   },
   "outputs": [],
   "source": [
    "# Create a pivot table to organize book ratings data\n",
    "# The pivot table will have books as rows, users as columns, and ratings as the cell values\n",
    "\n",
    "# Group the 'final_ratings' DataFrame by 'Book-Title' and 'User-ID'\n",
    "# Calculate the average rating for each combination of book and user\n",
    "# The resulting table will have books as rows and users as columns\n",
    "\n",
    "book_ratings_pivot = final_ratings.pivot_table(index='Book-Title', columns='User-ID', values='Book-Rating')\n"
   ]
  },
  {
   "cell_type": "code",
   "execution_count": 28,
   "id": "c519c0cf",
   "metadata": {
    "execution": {
     "iopub.execute_input": "2023-07-16T18:02:36.697754Z",
     "iopub.status.busy": "2023-07-16T18:02:36.697466Z",
     "iopub.status.idle": "2023-07-16T18:02:36.701687Z",
     "shell.execute_reply": "2023-07-16T18:02:36.701144Z"
    },
    "papermill": {
     "duration": 0.02217,
     "end_time": "2023-07-16T18:02:36.703015",
     "exception": false,
     "start_time": "2023-07-16T18:02:36.680845",
     "status": "completed"
    },
    "tags": []
   },
   "outputs": [
    {
     "data": {
      "text/plain": [
       "(706, 810)"
      ]
     },
     "execution_count": 28,
     "metadata": {},
     "output_type": "execute_result"
    }
   ],
   "source": [
    "book_ratings_pivot.shape"
   ]
  },
  {
   "cell_type": "markdown",
   "id": "2f2c8f33",
   "metadata": {
    "papermill": {
     "duration": 0.015492,
     "end_time": "2023-07-16T18:02:36.734316",
     "exception": false,
     "start_time": "2023-07-16T18:02:36.718824",
     "status": "completed"
    },
    "tags": []
   },
   "source": [
    "we have total 706 books and the ratings given by 810 different users for these books."
   ]
  },
  {
   "cell_type": "code",
   "execution_count": 29,
   "id": "37bfec0e",
   "metadata": {
    "execution": {
     "iopub.execute_input": "2023-07-16T18:02:36.768196Z",
     "iopub.status.busy": "2023-07-16T18:02:36.767609Z",
     "iopub.status.idle": "2023-07-16T18:02:36.785401Z",
     "shell.execute_reply": "2023-07-16T18:02:36.784725Z"
    },
    "papermill": {
     "duration": 0.036727,
     "end_time": "2023-07-16T18:02:36.787115",
     "exception": false,
     "start_time": "2023-07-16T18:02:36.750388",
     "status": "completed"
    },
    "tags": []
   },
   "outputs": [
    {
     "data": {
      "text/html": [
       "<div>\n",
       "<style scoped>\n",
       "    .dataframe tbody tr th:only-of-type {\n",
       "        vertical-align: middle;\n",
       "    }\n",
       "\n",
       "    .dataframe tbody tr th {\n",
       "        vertical-align: top;\n",
       "    }\n",
       "\n",
       "    .dataframe thead th {\n",
       "        text-align: right;\n",
       "    }\n",
       "</style>\n",
       "<table border=\"1\" class=\"dataframe\">\n",
       "  <thead>\n",
       "    <tr style=\"text-align: right;\">\n",
       "      <th>User-ID</th>\n",
       "      <th>254</th>\n",
       "      <th>2276</th>\n",
       "      <th>2766</th>\n",
       "      <th>2977</th>\n",
       "      <th>3363</th>\n",
       "      <th>4017</th>\n",
       "      <th>4385</th>\n",
       "      <th>6251</th>\n",
       "      <th>6323</th>\n",
       "      <th>6543</th>\n",
       "      <th>...</th>\n",
       "      <th>271705</th>\n",
       "      <th>273979</th>\n",
       "      <th>274004</th>\n",
       "      <th>274061</th>\n",
       "      <th>274301</th>\n",
       "      <th>274308</th>\n",
       "      <th>275970</th>\n",
       "      <th>277427</th>\n",
       "      <th>277639</th>\n",
       "      <th>278418</th>\n",
       "    </tr>\n",
       "    <tr>\n",
       "      <th>Book-Title</th>\n",
       "      <th></th>\n",
       "      <th></th>\n",
       "      <th></th>\n",
       "      <th></th>\n",
       "      <th></th>\n",
       "      <th></th>\n",
       "      <th></th>\n",
       "      <th></th>\n",
       "      <th></th>\n",
       "      <th></th>\n",
       "      <th></th>\n",
       "      <th></th>\n",
       "      <th></th>\n",
       "      <th></th>\n",
       "      <th></th>\n",
       "      <th></th>\n",
       "      <th></th>\n",
       "      <th></th>\n",
       "      <th></th>\n",
       "      <th></th>\n",
       "      <th></th>\n",
       "    </tr>\n",
       "  </thead>\n",
       "  <tbody>\n",
       "    <tr>\n",
       "      <th>1984</th>\n",
       "      <td>9.0</td>\n",
       "      <td>NaN</td>\n",
       "      <td>NaN</td>\n",
       "      <td>NaN</td>\n",
       "      <td>NaN</td>\n",
       "      <td>NaN</td>\n",
       "      <td>NaN</td>\n",
       "      <td>NaN</td>\n",
       "      <td>NaN</td>\n",
       "      <td>NaN</td>\n",
       "      <td>...</td>\n",
       "      <td>10.0</td>\n",
       "      <td>NaN</td>\n",
       "      <td>NaN</td>\n",
       "      <td>NaN</td>\n",
       "      <td>NaN</td>\n",
       "      <td>NaN</td>\n",
       "      <td>0.0</td>\n",
       "      <td>NaN</td>\n",
       "      <td>NaN</td>\n",
       "      <td>NaN</td>\n",
       "    </tr>\n",
       "    <tr>\n",
       "      <th>1st to Die: A Novel</th>\n",
       "      <td>NaN</td>\n",
       "      <td>NaN</td>\n",
       "      <td>NaN</td>\n",
       "      <td>NaN</td>\n",
       "      <td>NaN</td>\n",
       "      <td>NaN</td>\n",
       "      <td>NaN</td>\n",
       "      <td>NaN</td>\n",
       "      <td>NaN</td>\n",
       "      <td>9.0</td>\n",
       "      <td>...</td>\n",
       "      <td>NaN</td>\n",
       "      <td>NaN</td>\n",
       "      <td>NaN</td>\n",
       "      <td>NaN</td>\n",
       "      <td>NaN</td>\n",
       "      <td>NaN</td>\n",
       "      <td>NaN</td>\n",
       "      <td>NaN</td>\n",
       "      <td>NaN</td>\n",
       "      <td>NaN</td>\n",
       "    </tr>\n",
       "  </tbody>\n",
       "</table>\n",
       "<p>2 rows × 810 columns</p>\n",
       "</div>"
      ],
      "text/plain": [
       "User-ID              254     2276    2766    2977    3363    4017    4385    \\\n",
       "Book-Title                                                                    \n",
       "1984                    9.0     NaN     NaN     NaN     NaN     NaN     NaN   \n",
       "1st to Die: A Novel     NaN     NaN     NaN     NaN     NaN     NaN     NaN   \n",
       "\n",
       "User-ID              6251    6323    6543    ...  271705  273979  274004  \\\n",
       "Book-Title                                   ...                           \n",
       "1984                    NaN     NaN     NaN  ...    10.0     NaN     NaN   \n",
       "1st to Die: A Novel     NaN     NaN     9.0  ...     NaN     NaN     NaN   \n",
       "\n",
       "User-ID              274061  274301  274308  275970  277427  277639  278418  \n",
       "Book-Title                                                                   \n",
       "1984                    NaN     NaN     NaN     0.0     NaN     NaN     NaN  \n",
       "1st to Die: A Novel     NaN     NaN     NaN     NaN     NaN     NaN     NaN  \n",
       "\n",
       "[2 rows x 810 columns]"
      ]
     },
     "execution_count": 29,
     "metadata": {},
     "output_type": "execute_result"
    }
   ],
   "source": [
    "book_ratings_pivot.head(2)"
   ]
  },
  {
   "cell_type": "markdown",
   "id": "e7c9cf27",
   "metadata": {
    "papermill": {
     "duration": 0.016246,
     "end_time": "2023-07-16T18:02:36.820098",
     "exception": false,
     "start_time": "2023-07-16T18:02:36.803852",
     "status": "completed"
    },
    "tags": []
   },
   "source": [
    "Lets fill the missing values with zeros, it helps us to ensure that every cell in the table has a value, even if it represents a lack of rating.<br>\n",
    "This can be useful for subsequent calculations and to maintain consistent data in the table."
   ]
  },
  {
   "cell_type": "code",
   "execution_count": 30,
   "id": "961c84c9",
   "metadata": {
    "execution": {
     "iopub.execute_input": "2023-07-16T18:02:36.854428Z",
     "iopub.status.busy": "2023-07-16T18:02:36.853930Z",
     "iopub.status.idle": "2023-07-16T18:02:36.860419Z",
     "shell.execute_reply": "2023-07-16T18:02:36.859713Z"
    },
    "papermill": {
     "duration": 0.025516,
     "end_time": "2023-07-16T18:02:36.862057",
     "exception": false,
     "start_time": "2023-07-16T18:02:36.836541",
     "status": "completed"
    },
    "tags": []
   },
   "outputs": [],
   "source": [
    "# Fill any missing values in the book_ratings_pivot table with zeros\n",
    "book_ratings_pivot.fillna(0, inplace=True)"
   ]
  },
  {
   "cell_type": "markdown",
   "id": "d7c5cdca",
   "metadata": {
    "papermill": {
     "duration": 0.01627,
     "end_time": "2023-07-16T18:02:36.894717",
     "exception": false,
     "start_time": "2023-07-16T18:02:36.878447",
     "status": "completed"
    },
    "tags": []
   },
   "source": [
    "Now lets apply  collaborative filtering techniques to make personalized recommendations based on similar user preferences."
   ]
  },
  {
   "cell_type": "markdown",
   "id": "d395d359",
   "metadata": {
    "papermill": {
     "duration": 0.016616,
     "end_time": "2023-07-16T18:02:36.928122",
     "exception": false,
     "start_time": "2023-07-16T18:02:36.911506",
     "status": "completed"
    },
    "tags": []
   },
   "source": [
    "Cosine similarity:\n",
    "https://www.kaggle.com/code/adityaghuse/movie-recommendation-beginner-friendly?cellId=59&cellIds=59&kernelSessionId=136797140"
   ]
  },
  {
   "cell_type": "code",
   "execution_count": 31,
   "id": "60ff6885",
   "metadata": {
    "execution": {
     "iopub.execute_input": "2023-07-16T18:02:36.962077Z",
     "iopub.status.busy": "2023-07-16T18:02:36.961754Z",
     "iopub.status.idle": "2023-07-16T18:02:37.913538Z",
     "shell.execute_reply": "2023-07-16T18:02:37.912609Z"
    },
    "papermill": {
     "duration": 0.971128,
     "end_time": "2023-07-16T18:02:37.915697",
     "exception": false,
     "start_time": "2023-07-16T18:02:36.944569",
     "status": "completed"
    },
    "tags": []
   },
   "outputs": [],
   "source": [
    "from sklearn.metrics.pairwise import cosine_similarity"
   ]
  },
  {
   "cell_type": "code",
   "execution_count": 32,
   "id": "6b604904",
   "metadata": {
    "execution": {
     "iopub.execute_input": "2023-07-16T18:02:37.952041Z",
     "iopub.status.busy": "2023-07-16T18:02:37.951680Z",
     "iopub.status.idle": "2023-07-16T18:02:37.968079Z",
     "shell.execute_reply": "2023-07-16T18:02:37.967304Z"
    },
    "papermill": {
     "duration": 0.035955,
     "end_time": "2023-07-16T18:02:37.969850",
     "exception": false,
     "start_time": "2023-07-16T18:02:37.933895",
     "status": "completed"
    },
    "tags": []
   },
   "outputs": [],
   "source": [
    "# calculates the similarity between vectors using a method called cosine similarity.\n",
    "#In simpler terms, it takes a vector (a mathematical representation of the movie) and compares it to other vectors representing different movies.\n",
    "#It calculates how similar these vectors are by measuring the cosine of the angle between them. \n",
    "#The resulting similarity values indicate how closely related the movies are based on their vector representations.\n",
    "#Essentially, it helps to determine how similar two books are by looking at their numerical representations and calculating a similarity score.\n",
    "similarity_scores = cosine_similarity(book_ratings_pivot)"
   ]
  },
  {
   "cell_type": "code",
   "execution_count": 33,
   "id": "16ead593",
   "metadata": {
    "execution": {
     "iopub.execute_input": "2023-07-16T18:02:38.014117Z",
     "iopub.status.busy": "2023-07-16T18:02:38.013805Z",
     "iopub.status.idle": "2023-07-16T18:02:38.019103Z",
     "shell.execute_reply": "2023-07-16T18:02:38.018320Z"
    },
    "papermill": {
     "duration": 0.029266,
     "end_time": "2023-07-16T18:02:38.020795",
     "exception": false,
     "start_time": "2023-07-16T18:02:37.991529",
     "status": "completed"
    },
    "tags": []
   },
   "outputs": [
    {
     "data": {
      "text/plain": [
       "(706, 706)"
      ]
     },
     "execution_count": 33,
     "metadata": {},
     "output_type": "execute_result"
    }
   ],
   "source": [
    "similarity_scores.shape"
   ]
  },
  {
   "cell_type": "markdown",
   "id": "21e67097",
   "metadata": {
    "papermill": {
     "duration": 0.021214,
     "end_time": "2023-07-16T18:02:38.063635",
     "exception": false,
     "start_time": "2023-07-16T18:02:38.042421",
     "status": "completed"
    },
    "tags": []
   },
   "source": [
    "Now,Lets create a recommend function that takes a book name, finds the index of the book in **book_ratings_pivot** table,<br>\n",
    "Identifies similar books based on their similarity scores, retrieves their details from the dataset, and returns a list of recommended books with their titles and author."
   ]
  },
  {
   "cell_type": "code",
   "execution_count": 34,
   "id": "26469321",
   "metadata": {
    "execution": {
     "iopub.execute_input": "2023-07-16T18:02:38.102252Z",
     "iopub.status.busy": "2023-07-16T18:02:38.101948Z",
     "iopub.status.idle": "2023-07-16T18:02:38.108784Z",
     "shell.execute_reply": "2023-07-16T18:02:38.107631Z"
    },
    "papermill": {
     "duration": 0.026129,
     "end_time": "2023-07-16T18:02:38.111018",
     "exception": false,
     "start_time": "2023-07-16T18:02:38.084889",
     "status": "completed"
    },
    "tags": []
   },
   "outputs": [],
   "source": [
    "def recommend(book_name):\n",
    "    # Find the index of the input book name in the pivot table\n",
    "    index = np.where(book_ratings_pivot.index == book_name)[0][0]\n",
    "\n",
    "    # Retrieve the similarity scores of the input book with other books,\n",
    "    # sort them in descending order, and select the top 4 similar items\n",
    "    similar_items = sorted(list(enumerate(similarity_scores[index])), key=lambda x: x[1], reverse=True)[1:5]\n",
    "\n",
    "    # Initialize an empty list to store recommended book information\n",
    "    data = []\n",
    "\n",
    "    # Iterate through each similar item\n",
    "    for i in similar_items:\n",
    "        item = []\n",
    "\n",
    "        # Fetch the relevant book details (title, author, image URL) from the 'books' dataset\n",
    "        temp_df = books[books['Book-Title'] == book_ratings_pivot.index[i[0]]]\n",
    "\n",
    "        # Append the book details to the 'item' list\n",
    "        item.extend(list(temp_df.drop_duplicates('Book-Title')['Book-Title'].values))\n",
    "        item.extend(list(temp_df.drop_duplicates('Book-Title')['Book-Author'].values))\n",
    "\n",
    "        # Append the 'item' list to the 'data' list\n",
    "        data.append(item)\n",
    "\n",
    "    # Return the 'data' list containing information about the recommended books\n",
    "    return data\n"
   ]
  },
  {
   "cell_type": "code",
   "execution_count": 35,
   "id": "09e19dc8",
   "metadata": {
    "execution": {
     "iopub.execute_input": "2023-07-16T18:02:38.146522Z",
     "iopub.status.busy": "2023-07-16T18:02:38.146224Z",
     "iopub.status.idle": "2023-07-16T18:02:38.217488Z",
     "shell.execute_reply": "2023-07-16T18:02:38.216714Z"
    },
    "papermill": {
     "duration": 0.090478,
     "end_time": "2023-07-16T18:02:38.219106",
     "exception": false,
     "start_time": "2023-07-16T18:02:38.128628",
     "status": "completed"
    },
    "tags": []
   },
   "outputs": [
    {
     "data": {
      "text/plain": [
       "[['White Teeth: A Novel', 'Zadie Smith'],\n",
       " ['Chocolat', 'Joanne Harris'],\n",
       " ['High Fidelity', 'Nick Hornby'],\n",
       " ['How to Be Good', 'Nick Hornby']]"
      ]
     },
     "execution_count": 35,
     "metadata": {},
     "output_type": "execute_result"
    }
   ],
   "source": [
    "recommend('Five Quarters of the Orange')"
   ]
  },
  {
   "cell_type": "markdown",
   "id": "20ead66e",
   "metadata": {
    "execution": {
     "iopub.execute_input": "2023-07-14T19:55:52.083456Z",
     "iopub.status.busy": "2023-07-14T19:55:52.083010Z",
     "iopub.status.idle": "2023-07-14T19:55:52.091424Z",
     "shell.execute_reply": "2023-07-14T19:55:52.089706Z",
     "shell.execute_reply.started": "2023-07-14T19:55:52.083422Z"
    },
    "papermill": {
     "duration": 0.016008,
     "end_time": "2023-07-16T18:02:38.251986",
     "exception": false,
     "start_time": "2023-07-16T18:02:38.235978",
     "status": "completed"
    },
    "tags": []
   },
   "source": [
    "#### Reference:\n",
    "https://medium.com/@toprak.mhmt/collaborative-filtering-3ceb89080ade#:~:text=Collaborative%20filtering%20has%20basically%20two,behind%20the%20user%2Dbased%20approach."
   ]
  }
 ],
 "metadata": {
  "kernelspec": {
   "display_name": "Python 3 (ipykernel)",
   "language": "python",
   "name": "python3"
  },
  "language_info": {
   "codemirror_mode": {
    "name": "ipython",
    "version": 3
   },
   "file_extension": ".py",
   "mimetype": "text/x-python",
   "name": "python",
   "nbconvert_exporter": "python",
   "pygments_lexer": "ipython3",
   "version": "3.10.9"
  },
  "papermill": {
   "default_parameters": {},
   "duration": 24.18662,
   "end_time": "2023-07-16T18:02:39.321366",
   "environment_variables": {},
   "exception": null,
   "input_path": "__notebook__.ipynb",
   "output_path": "__notebook__.ipynb",
   "parameters": {},
   "start_time": "2023-07-16T18:02:15.134746",
   "version": "2.4.0"
  }
 },
 "nbformat": 4,
 "nbformat_minor": 5
}
